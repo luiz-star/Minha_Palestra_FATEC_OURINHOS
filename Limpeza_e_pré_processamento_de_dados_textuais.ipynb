{
  "nbformat": 4,
  "nbformat_minor": 0,
  "metadata": {
    "colab": {
      "name": "Limpeza e pré-processamento de dados textuais.ipynb",
      "provenance": [],
      "collapsed_sections": [],
      "authorship_tag": "ABX9TyOJyc6wcjv6Yy2YIx95u5cZ",
      "include_colab_link": true
    },
    "kernelspec": {
      "name": "python3",
      "display_name": "Python 3"
    },
    "language_info": {
      "name": "python"
    }
  },
  "cells": [
    {
      "cell_type": "markdown",
      "metadata": {
        "id": "view-in-github",
        "colab_type": "text"
      },
      "source": [
        "<a href=\"https://colab.research.google.com/github/luiz-star/Minha_Palestra_FATEC_OURINHOS/blob/main/Limpeza_e_pr%C3%A9_processamento_de_dados_textuais.ipynb\" target=\"_parent\"><img src=\"https://colab.research.google.com/assets/colab-badge.svg\" alt=\"Open In Colab\"/></a>"
      ]
    },
    {
      "cell_type": "markdown",
      "metadata": {
        "id": "jwX95zFFaA0D"
      },
      "source": [
        "# <font color='yellow'>Limpeza e pré-processamento de dados textuais com a biblioteca NeatText\n",
        "\n",
        "# <font color='yellow'> FATEC OURINHOS/SEMANA TECNOLOGIA\n",
        "</font>\n",
        "\n",
        "MINI PALESTRA"
      ]
    },
    {
      "cell_type": "markdown",
      "metadata": {
        "id": "WQTt4GUZac2s"
      },
      "source": [
        "#Índice\n",
        "O que é NeatText\n",
        "\n",
        "Componentes do NeatText\n",
        "\n",
        "Instalação\n",
        "\n",
        "Usando TextFrame\n",
        "\n",
        "Usando TextExtractor\n",
        "\n",
        "Usando funções\n",
        "\n",
        "Usando o Explainer\n",
        "\n",
        "Conclusão"
      ]
    },
    {
      "cell_type": "markdown",
      "metadata": {
        "id": "tSlaM3QRawCy"
      },
      "source": [
        "#O que é NeatText\n",
        "\n",
        "NeatText é um pacote simples de processamento de linguagem natural para limpar dados de texto e pré-processar dados de texto. Ele pode ser usado para limpar frases, extrair e-mails, números de telefone, links da web e emojis de frases. Também pode ser usado para configurar pipelines de pré-processamento de texto."
      ]
    },
    {
      "cell_type": "code",
      "metadata": {
        "colab": {
          "base_uri": "https://localhost:8080/"
        },
        "id": "kG6Lt9WRZ17H",
        "outputId": "c620f827-f8c4-450e-b71a-c595cfc45ee9"
      },
      "source": [
        "# Instalação da Biblioteca NeatText\n",
        "!pip install neattext"
      ],
      "execution_count": null,
      "outputs": [
        {
          "output_type": "stream",
          "name": "stdout",
          "text": [
            "Collecting neattext\n",
            "  Downloading neattext-0.1.2-py3-none-any.whl (114 kB)\n",
            "\u001b[?25l\r\u001b[K     |██▉                             | 10 kB 16.5 MB/s eta 0:00:01\r\u001b[K     |█████▊                          | 20 kB 11.0 MB/s eta 0:00:01\r\u001b[K     |████████▋                       | 30 kB 8.6 MB/s eta 0:00:01\r\u001b[K     |███████████▌                    | 40 kB 7.8 MB/s eta 0:00:01\r\u001b[K     |██████████████▍                 | 51 kB 5.0 MB/s eta 0:00:01\r\u001b[K     |█████████████████▏              | 61 kB 5.2 MB/s eta 0:00:01\r\u001b[K     |████████████████████            | 71 kB 5.5 MB/s eta 0:00:01\r\u001b[K     |███████████████████████         | 81 kB 6.1 MB/s eta 0:00:01\r\u001b[K     |█████████████████████████▉      | 92 kB 5.9 MB/s eta 0:00:01\r\u001b[K     |████████████████████████████▊   | 102 kB 5.2 MB/s eta 0:00:01\r\u001b[K     |███████████████████████████████▋| 112 kB 5.2 MB/s eta 0:00:01\r\u001b[K     |████████████████████████████████| 114 kB 5.2 MB/s \n",
            "\u001b[?25hInstalling collected packages: neattext\n",
            "Successfully installed neattext-0.1.2\n"
          ]
        }
      ]
    },
    {
      "cell_type": "code",
      "metadata": {
        "id": "Z7stH9H1bt95"
      },
      "source": [
        "#Importando a Biblioteca\n",
        "import neattext as nt"
      ],
      "execution_count": null,
      "outputs": []
    },
    {
      "cell_type": "markdown",
      "metadata": {
        "id": "zVOnvcf0b51F"
      },
      "source": [
        "Veremos a funcionalidade de diferentes objetos desta biblioteca em uma frase.\n",
        "\n",
        "Vamos criar uma frase.\n",
        "\n",
        "Este será o exemplo que vamos utilizar para os nossos testes:\n",
        "\n",
        "'Seu nome é FATEC ☺️. Desenvolver educação tecnológica por meio da formação de profissionais éticos e competentes, capazes de se adaptar às mudanças, criar, aplicar e difundir conhecimento tecnológico, contribuindo para o desenvolvimento social e a elevação da qualidade e produtividade de processos, produtos e serviços!!!!! 😎.Seu número de contato é 0123456789.Seu e-mail é ficticio@gmail.com.👀Seu site é https://www.fatecour.com/'\n",
        "\n"
      ]
    },
    {
      "cell_type": "code",
      "metadata": {
        "id": "tZaQ7P7_cG49"
      },
      "source": [
        "my_text = 'Seu nome é FATEC ☺️. Desenvolver educação tecnológica por meio da formação de profissionais éticos e competentes, capazes de se adaptar às mudanças, criar, aplicar e difundir conhecimento tecnológico, contribuindo para o desenvolvimento social e a elevação da qualidade e produtividade de processos, produtos e serviços!!!!! 😎.Seu número de contato é 0123456789.Seu e-mail é ficticio@gmail.com.👀Seu site é https://www.fatecour.com/'"
      ],
      "execution_count": null,
      "outputs": []
    },
    {
      "cell_type": "markdown",
      "metadata": {
        "id": "lMZ_h7frfIZS"
      },
      "source": [
        "A frase acima contém muito ruído, como emojis, e-mails, links da web e alguns caracteres especiais. Então, vamos limpar essa frase."
      ]
    },
    {
      "cell_type": "markdown",
      "metadata": {
        "id": "k7VI5wHhfVba"
      },
      "source": [
        "Este objeto mantém o texto como um objeto TextFrame, o que nos permitirá fazer mais com o texto. Para usar o objeto TextFrame, temos que criar uma instância de TextFrame na frase dada. Vamos criar uma instância chamada sentx."
      ]
    },
    {
      "cell_type": "code",
      "metadata": {
        "id": "QY4smfDDfb-P"
      },
      "source": [
        "# Criando uma instância \n",
        "sentx = nt.TextFrame(text=my_text)"
      ],
      "execution_count": null,
      "outputs": []
    },
    {
      "cell_type": "code",
      "metadata": {
        "colab": {
          "base_uri": "https://localhost:8080/",
          "height": 88
        },
        "id": "91vLg6Knic85",
        "outputId": "7cc3502a-dd27-4350-9992-92eae1c93653"
      },
      "source": [
        "# Imprimir o texto da Instância sentx\n",
        "sentx.text"
      ],
      "execution_count": null,
      "outputs": [
        {
          "output_type": "execute_result",
          "data": {
            "application/vnd.google.colaboratory.intrinsic+json": {
              "type": "string"
            },
            "text/plain": [
              "'Seu nome é FATEC ☺️. Desenvolver educação tecnológica por meio da formação de profissionais éticos e competentes, capazes de se adaptar às mudanças, criar, aplicar e difundir conhecimento tecnológico, contribuindo para o desenvolvimento social e a elevação da qualidade e produtividade de processos, produtos e serviços!!!!! 😎.Seu número de contato é 0123456789.Seu e-mail é ficticio@gmail.com.👀Seu site é https://www.fatecour.com/'"
            ]
          },
          "metadata": {},
          "execution_count": 6
        }
      ]
    },
    {
      "cell_type": "code",
      "metadata": {
        "colab": {
          "base_uri": "https://localhost:8080/"
        },
        "id": "lfcqi4pnixlO",
        "outputId": "d81748dc-519e-4ec0-aa39-522c1fc5dc64"
      },
      "source": [
        "#Agora que temos uma instância sentx, vamos usar o comando describe ().\n",
        "sentx.describe()"
      ],
      "execution_count": null,
      "outputs": [
        {
          "output_type": "stream",
          "name": "stdout",
          "text": [
            "Key      Value          \n",
            "Length  : 431            \n",
            "vowels  : 145            \n",
            "consonants: 175            \n",
            "stopwords: 2              \n",
            "punctuations: 23             \n",
            "special_char: 23             \n",
            "tokens(whitespace): 58             \n",
            "tokens(words): 66             \n"
          ]
        }
      ]
    },
    {
      "cell_type": "code",
      "metadata": {
        "colab": {
          "base_uri": "https://localhost:8080/"
        },
        "id": "bOLefg3ukWSE",
        "outputId": "b42ff573-db72-4c82-82e2-6c566a89ad4d"
      },
      "source": [
        "#Para contar o número de vogais na frase\n",
        "sentx.count_vowels ()"
      ],
      "execution_count": null,
      "outputs": [
        {
          "output_type": "execute_result",
          "data": {
            "text/plain": [
              "{'a': 29, 'e': 42, 'i': 26, 'o': 36, 'u': 12}"
            ]
          },
          "metadata": {},
          "execution_count": 8
        }
      ]
    },
    {
      "cell_type": "code",
      "metadata": {
        "colab": {
          "base_uri": "https://localhost:8080/"
        },
        "id": "nHaPXkfykfvF",
        "outputId": "0f6d4c52-98a7-4b26-8357-f80c1790887c"
      },
      "source": [
        "#Para contar o número de palavras irrelevantes na frase \n",
        "sentx.count_stopwords ()"
      ],
      "execution_count": null,
      "outputs": [
        {
          "output_type": "execute_result",
          "data": {
            "text/plain": [
              "{'a': 1, 'o': 1}"
            ]
          },
          "metadata": {},
          "execution_count": 9
        }
      ]
    },
    {
      "cell_type": "markdown",
      "metadata": {
        "id": "4HHjLgsUkRlu"
      },
      "source": [
        "Agora que vimos algumas métricas de texto básicas que esta biblioteca tem a oferecer, vamos ver alguns métodos de limpeza de texto."
      ]
    },
    {
      "cell_type": "code",
      "metadata": {
        "colab": {
          "base_uri": "https://localhost:8080/"
        },
        "id": "xLWdeHbwky1d",
        "outputId": "52d74009-d83b-4ff5-aa09-d567d41c40ff"
      },
      "source": [
        "#Para remover pontuações na frase \n",
        "print(sentx.remove_puncts())"
      ],
      "execution_count": null,
      "outputs": [
        {
          "output_type": "stream",
          "name": "stdout",
          "text": [
            "Seu nome é FATEC ☺️ Desenvolver educação tecnológica por meio da formação de profissionais éticos e competentes capazes de se adaptar às mudanças criar aplicar e difundir conhecimento tecnológico contribuindo para o desenvolvimento social e a elevação da qualidade e produtividade de processos produtos e serviços 😎Seu número de contato é 0123456789Seu email é ficticio@gmailcom👀Seu site é https://wwwfatecourcom/\n"
          ]
        }
      ]
    },
    {
      "cell_type": "code",
      "metadata": {
        "colab": {
          "base_uri": "https://localhost:8080/"
        },
        "id": "qfK4bOsUlgj0",
        "outputId": "662e02e4-4219-49be-9088-a9e245c9c95f"
      },
      "source": [
        "#Removendo emojis\n",
        "print(sentx.remove_emojis ())"
      ],
      "execution_count": null,
      "outputs": [
        {
          "output_type": "stream",
          "name": "stdout",
          "text": [
            "Seu nome é FATEC  Desenvolver educação tecnológica por meio da formação de profissionais éticos e competentes capazes de se adaptar às mudanças criar aplicar e difundir conhecimento tecnológico contribuindo para o desenvolvimento social e a elevação da qualidade e produtividade de processos produtos e serviços Seu número de contato é 0123456789Seu email é ficticio@gmailcomSeu site é https://wwwfatecourcom/\n"
          ]
        }
      ]
    },
    {
      "cell_type": "markdown",
      "metadata": {
        "id": "8so8Q8kfl1HG"
      },
      "source": [
        "Às vezes, as frases contêm dados valiosos como e-mails, números de telefone, emojis. Por exemplo, em um determinado tweet, o emoji pode nos dar informações valiosas, como o sentimento do tweet. Portanto, vamos usar o TextExtractor para extrair algumas informações valiosas da frase."
      ]
    },
    {
      "cell_type": "code",
      "metadata": {
        "id": "Fbu2gjZjl9LP"
      },
      "source": [
        "#Primeiro, vamos extrair o e-mail da frase. Para fazer isso,\n",
        "# temos que importar TextExtractor e criar uma instância dele\n",
        "from neattext import TextExtractor \n",
        "sentx1 = TextExtractor (text = my_text)"
      ],
      "execution_count": null,
      "outputs": []
    },
    {
      "cell_type": "code",
      "metadata": {
        "colab": {
          "base_uri": "https://localhost:8080/"
        },
        "id": "wRXR4NzcmXYt",
        "outputId": "bf76411d-4616-4e2c-d0e2-de4494926eb3"
      },
      "source": [
        "#Agora que criamos uma instância dele, vamos usá-lo para extrair e-mail \n",
        "sentx1.extract_emails ()"
      ],
      "execution_count": null,
      "outputs": [
        {
          "output_type": "execute_result",
          "data": {
            "text/plain": [
              "['ficticio@gmail.com.']"
            ]
          },
          "metadata": {},
          "execution_count": 13
        }
      ]
    },
    {
      "cell_type": "code",
      "metadata": {
        "colab": {
          "base_uri": "https://localhost:8080/"
        },
        "id": "Mgpdae8mmkEO",
        "outputId": "f9802dc7-687b-4ac5-a8d5-3d7001b6d7d0"
      },
      "source": [
        "#vamos extrair os emojis da frase\n",
        "sentx1.extract_emojis ()"
      ],
      "execution_count": null,
      "outputs": [
        {
          "output_type": "execute_result",
          "data": {
            "text/plain": [
              "['☺️', '😎', '👀']"
            ]
          },
          "metadata": {},
          "execution_count": 14
        }
      ]
    },
    {
      "cell_type": "markdown",
      "metadata": {
        "id": "WkDdvtmUm7ZN"
      },
      "source": [
        "#Usando funções no Neattext\n",
        "As funções oferecem uma maneira única de pré-processar a frase. Podemos fazer todas as atividades que fizemos acima em uma linha usando funções que salvarão algumas linhas de código.\n",
        "\n",
        "Agora vamos usar funções para processar a frase. Para fazer isso, temos que importar os módulos necessários"
      ]
    },
    {
      "cell_type": "code",
      "metadata": {
        "id": "BnwLs6fZnDMt"
      },
      "source": [
        "# Importando os módulos\n",
        "from neattext.functions import clean_text"
      ],
      "execution_count": null,
      "outputs": []
    },
    {
      "cell_type": "code",
      "metadata": {
        "colab": {
          "base_uri": "https://localhost:8080/",
          "height": 88
        },
        "id": "SzSZnzilrkhh",
        "outputId": "e98c886d-81f3-455e-f1bc-aa7bec144fde"
      },
      "source": [
        "#Removendo URLs, palavras irrelevantes da frase original meu_texto\n",
        "clean_text (my_text, urls = True, stopwords = True)"
      ],
      "execution_count": null,
      "outputs": [
        {
          "output_type": "execute_result",
          "data": {
            "application/vnd.google.colaboratory.intrinsic+json": {
              "type": "string"
            },
            "text/plain": [
              "'seu nome é fatec . desenvolver educação tecnológica por meio da formação de profissionais éticos e competentes, capazes de se adaptar às mudanças, criar, aplicar e difundir conhecimento tecnológico, contribuindo para desenvolvimento social e elevação da qualidade e produtividade de processos, produtos e serviços!!!!! .seu número de contato é 0123456789.seu e-mail é ficticio@gmail.com.seu site é '"
            ]
          },
          "metadata": {},
          "execution_count": 16
        }
      ]
    },
    {
      "cell_type": "markdown",
      "metadata": {
        "id": "41CUGdgdsE7v"
      },
      "source": [
        "#Usando o Explainer\n",
        "Até agora vimos TextFrame, TextExtractor e Functions. Agora vamos ver outro objeto da biblioteca NeatText, ou seja, Explainer.\n",
        "\n",
        "Às vezes, podemos ficar confusos sobre o que um emoji pode significar e também às vezes queremos criar um emoji com base em uma determinada expressão e em alguns aplicativos, podemos querer usar Unicode em vez de emojis. Portanto, é necessário converter esses Unicodes em emojis na saída. O objeto explicador faz tudo isso para nós.\n",
        "\n",
        "O explicador pode fazer três tipos de atividades. Eles são\n",
        "\n",
        "emojify () - Cria um emoji baseado em uma determinada expressão emocional.\n",
        "\n",
        "emoji_explainer () - explica o significado por trás do emoji fornecido.\n",
        "\n",
        "unicode_2_emoji () - Converte Unicode em emoji."
      ]
    },
    {
      "cell_type": "code",
      "metadata": {
        "id": "TrmyhHBysb4v"
      },
      "source": [
        "#Importando as funções do explicador\n",
        "from neattext.explainer import emojify, emoji_explainer, unicode_2_emoji"
      ],
      "execution_count": null,
      "outputs": []
    },
    {
      "cell_type": "code",
      "metadata": {
        "colab": {
          "base_uri": "https://localhost:8080/",
          "height": 35
        },
        "id": "elY8HGLDso-_",
        "outputId": "1e1137c5-20fc-4730-c598-8bc09773cc24"
      },
      "source": [
        "# Testando o emojify\n",
        "#Podemos ver que ele produzirá  um emoji baseado na emoção que demos a ele.\n",
        "emojify('cry')   # cry => chorar"
      ],
      "execution_count": null,
      "outputs": [
        {
          "output_type": "execute_result",
          "data": {
            "application/vnd.google.colaboratory.intrinsic+json": {
              "type": "string"
            },
            "text/plain": [
              "'😢'"
            ]
          },
          "metadata": {},
          "execution_count": 20
        }
      ]
    },
    {
      "cell_type": "code",
      "metadata": {
        "colab": {
          "base_uri": "https://localhost:8080/",
          "height": 35
        },
        "id": "VGJQe4pduni7",
        "outputId": "a1df9ba8-c7c4-4cc6-f06d-f5295f7af707"
      },
      "source": [
        "#Agora vamos ver emoji_explainer ()\n",
        "emoji_explainer ('😍')  #ROSTO SORRISO COM OLHOS EM FORMA DE CORAÇÃO"
      ],
      "execution_count": null,
      "outputs": [
        {
          "output_type": "execute_result",
          "data": {
            "application/vnd.google.colaboratory.intrinsic+json": {
              "type": "string"
            },
            "text/plain": [
              "'SMILING FACE WITH HEART-SHAPED EYES'"
            ]
          },
          "metadata": {},
          "execution_count": 22
        }
      ]
    },
    {
      "cell_type": "code",
      "metadata": {
        "colab": {
          "base_uri": "https://localhost:8080/",
          "height": 35
        },
        "id": "pRne1QQivIw7",
        "outputId": "5fb11ea1-4c9c-49a3-e88d-b054d4f34420"
      },
      "source": [
        "#Vamos ver unicode_2_emoji ()\n",
        "unicode_2_emoji ('0x1f49b')"
      ],
      "execution_count": null,
      "outputs": [
        {
          "output_type": "execute_result",
          "data": {
            "application/vnd.google.colaboratory.intrinsic+json": {
              "type": "string"
            },
            "text/plain": [
              "'💛'"
            ]
          },
          "metadata": {},
          "execution_count": 23
        }
      ]
    },
    {
      "cell_type": "markdown",
      "metadata": {
        "id": "z9wQC56-sZ0W"
      },
      "source": [
        "# <font color='yellow'>CONCLUSÃO</font>\n",
        "\n",
        "Vimos todos os componentes da biblioteca NeatText. Removemos várias coisas indesejadas da frase e a deixamos pronta para processamento posterior. Também economizamos muito tempo escrevendo funções para pré-processamento. Esta biblioteca é útil para fazer qualquer tipo de pré-processamento de dados de texto."
      ]
    },
    {
      "cell_type": "code",
      "metadata": {
        "id": "WZOYevujwSYs"
      },
      "source": [
        "# MAR TRANQUILO NÃO FAZ MARINHEIRO BOM"
      ],
      "execution_count": null,
      "outputs": []
    }
  ]
}